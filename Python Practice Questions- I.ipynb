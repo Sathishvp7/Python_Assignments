{
 "cells": [
  {
   "cell_type": "markdown",
   "id": "statewide-operations",
   "metadata": {},
   "source": [
    "### <pre> <font color ='green'> 1. Write a function that inputs a number and prints the multiplication table of that number </font></pre>"
   ]
  },
  {
   "cell_type": "code",
   "execution_count": 16,
   "id": "frozen-fraction",
   "metadata": {
    "collapsed": true
   },
   "outputs": [
    {
     "name": "stdout",
     "output_type": "stream",
     "text": [
      "Please enter the Numeric input, for multliplication table, for stop the execution use 0 \n",
      " 4529\n",
      "1 X 4529   =  4529\n",
      "2 X 4529   =  9058\n",
      "3 X 4529   =  13587\n",
      "4 X 4529   =  18116\n",
      "5 X 4529   =  22645\n",
      "6 X 4529   =  27174\n",
      "7 X 4529   =  31703\n",
      "8 X 4529   =  36232\n",
      "9 X 4529   =  40761\n",
      "10 X 4529   =  45290\n",
      "Please enter the Numeric input, for multliplication table, for stop the execution use 0 \n",
      " 954845\n",
      "1 X 954845   =  954845\n",
      "2 X 954845   =  1909690\n",
      "3 X 954845   =  2864535\n",
      "4 X 954845   =  3819380\n",
      "5 X 954845   =  4774225\n",
      "6 X 954845   =  5729070\n",
      "7 X 954845   =  6683915\n",
      "8 X 954845   =  7638760\n",
      "9 X 954845   =  8593605\n",
      "10 X 954845   =  9548450\n",
      "Please enter the Numeric input, for multliplication table, for stop the execution use 0 \n",
      " 0\n",
      "Thank you :)\n"
     ]
    }
   ],
   "source": [
    "# get the input from the user, Support only Numeric value\n",
    "\n",
    "def create_multiplication_table():\n",
    "    try:\n",
    "        get_input =  int(input('Please enter the Numeric input, for multliplication table, for stop the execution use 0 \\n '))\n",
    "        \n",
    "        if get_input == 0:\n",
    "            print('Thank you :)')\n",
    "            return\n",
    "        \n",
    "        for i in range(1,11):\n",
    "            print(i,'X',get_input,'  = ',i*get_input)  \n",
    "        create_multiplication_table()    \n",
    "\n",
    "    except:\n",
    "        print('Sorry!, please enter Numeric value')\n",
    "        create_multiplication_table()\n",
    " \n",
    "\n",
    "create_multiplication_table()"
   ]
  },
  {
   "cell_type": "markdown",
   "id": "velvet-appendix",
   "metadata": {},
   "source": [
    "### <pre> <font color='green'>  2. Write a program to print twin primes less than 1000. If two consecutive odd numbers are both prime then they are known as twin primes </font> </pre>\n"
   ]
  },
  {
   "cell_type": "code",
   "execution_count": 48,
   "id": "presidential-eclipse",
   "metadata": {},
   "outputs": [
    {
     "name": "stdout",
     "output_type": "stream",
     "text": [
      "Enter your range, to find twin prime number1000\n"
     ]
    },
    {
     "data": {
      "text/plain": [
       "[(3, 5),\n",
       " (5, 7),\n",
       " (11, 13),\n",
       " (17, 19),\n",
       " (29, 31),\n",
       " (41, 43),\n",
       " (59, 61),\n",
       " (71, 73),\n",
       " (101, 103),\n",
       " (107, 109),\n",
       " (137, 139),\n",
       " (149, 151),\n",
       " (179, 181),\n",
       " (191, 193),\n",
       " (197, 199),\n",
       " (227, 229),\n",
       " (239, 241),\n",
       " (269, 271),\n",
       " (281, 283),\n",
       " (311, 313),\n",
       " (347, 349),\n",
       " (419, 421),\n",
       " (431, 433),\n",
       " (461, 463),\n",
       " (521, 523),\n",
       " (569, 571),\n",
       " (599, 601),\n",
       " (617, 619),\n",
       " (641, 643),\n",
       " (659, 661),\n",
       " (809, 811),\n",
       " (821, 823),\n",
       " (827, 829),\n",
       " (857, 859),\n",
       " (881, 883)]"
      ]
     },
     "execution_count": 48,
     "metadata": {},
     "output_type": "execute_result"
    }
   ],
   "source": [
    "'''\n",
    "Two prime numbers are called twin primes if there is present only one composite number between them.\n",
    "Or we can also say two prime numbers whose difference is two are called twin primes. For example, (3,5) are twin primes, \n",
    "since the difference between the two numbers 5 – 3 = 2. \n",
    "The alternative names, given to twin primes are prime twin or prime pair. Also, learn prime numbers here.\n",
    "\n",
    "'''\n",
    "\n",
    "# First find list of prime number\n",
    "def prime(inputs):\n",
    "    prime_number=list(range(2,inputs))\n",
    "    for i in range(2,inputs+1):\n",
    "        for j in range(2,inputs+1):\n",
    "            if i != j:\n",
    "                if i%j == 0:\n",
    "                    try:\n",
    "                        prime_number.remove(i)\n",
    "                    except:\n",
    "                        pass\n",
    "                    break\n",
    "    return prime_number \n",
    "\n",
    "\n",
    "# Find twin prime   \n",
    "def twin_prime(prime):\n",
    "    twin_prime_val =[]\n",
    "    for i in prime:\n",
    "        for j in prime:\n",
    "            if j-i == 2:\n",
    "                twin_prime_val.append((i,j))\n",
    "    return twin_prime_val    \n",
    "\n",
    "\n",
    "prime_numbers = prime(int(input('Enter your range, to find twin prime number')))\n",
    "twin_prime(prime_numbers)\n",
    "    "
   ]
  },
  {
   "cell_type": "markdown",
   "id": "backed-johnston",
   "metadata": {},
   "source": [
    "###  <pre> <font color='green'> 3. Write a program to find out the prime factors of a number.  Example: prime factors of 56 -2,2, 2, 7 </font>\n",
    "</pre>"
   ]
  },
  {
   "cell_type": "markdown",
   "id": "compound-terry",
   "metadata": {},
   "source": [
    "<pre>\n",
    "Following are the steps to find all prime factors.\n",
    "1) While n is divisible by 2, print 2 and divide n by 2.\n",
    "2) After step 1, n must be odd. Now start a loop from i = 3 to square root of n. While i divides n, print i and divide n by i. After i fails to divide n, increment i by 2 and continue.\n",
    "3) If n is a prime number and is greater than 2, then n will not become 1 by above two steps. So print n if it is greater than 2.\n",
    "</pre>"
   ]
  },
  {
   "cell_type": "code",
   "execution_count": 20,
   "id": "genuine-teddy",
   "metadata": {},
   "outputs": [
    {
     "name": "stdout",
     "output_type": "stream",
     "text": [
      "Prime factor of 56\n",
      "2\n",
      "2\n",
      "2\n",
      "7\n",
      "Note 7 is Prime Number, so we cant further divide.\n",
      "****************************************************************************************************\n",
      "Prime factor of 315\n",
      "3\n",
      "3\n",
      "5\n",
      "7\n",
      "Note 7 is Prime Number, so we cant further divide.\n",
      "****************************************************************************************************\n",
      "Prime factor of 34866\n",
      "2\n",
      "3\n",
      "3\n",
      "13\n",
      "149\n",
      "Note 149 is Prime Number, so we cant further divide.\n"
     ]
    }
   ],
   "source": [
    "import numpy as np\n",
    "def prime_or_not(inputs,display=False):\n",
    "    prime_yes =True\n",
    "    for j in range(2,inputs+1):\n",
    "        if inputs != j:\n",
    "            if inputs % j == 0:\n",
    "                if display:\n",
    "                    print('Given number if Not a prime Number, because is divisible of {}. Prime factor is listed below '.format(j))\n",
    "                prime_yes = False\n",
    "                break\n",
    "    if prime_yes == True:\n",
    "        if display:\n",
    "            print('Given Number {} is Prime Number'.format(inputs))\n",
    "    return prime_yes    \n",
    "\n",
    "def step1_2(n):\n",
    "    if prime_or_not(n) == False: \n",
    "        if n%2 ==0: # Step 1\n",
    "            print(2)\n",
    "            n = int(n/2)\n",
    "            step1_2(n)\n",
    "        else: # Step 2\n",
    "            for k in range(3, int(np.sqrt(n))+1,2):\n",
    "                if n%k ==0:\n",
    "                    print(k)\n",
    "                    n = int(n/k)\n",
    "                    step1_2(n)\n",
    "                    break\n",
    "                    \n",
    "\n",
    "    else:\n",
    "        print(n)\n",
    "        if prime_or_not(n) == True:\n",
    "            print('Note {} is Prime Number, so we cant further divide.'.format(n))\n",
    "  \n",
    "\n",
    "\n",
    "print('Prime factor of 56',)\n",
    "step1_2(56)\n",
    "print('**'*50)\n",
    "print('Prime factor of 315',)\n",
    "step1_2(315)\n",
    "print('**'*50)\n",
    "print('Prime factor of 34866',)\n",
    "step1_2(34866)"
   ]
  },
  {
   "cell_type": "markdown",
   "id": "laden-despite",
   "metadata": {},
   "source": [
    "<pre><font color='green'><strong>4. Write a program to implement these formulae of permutations and combinations.\n",
    "Number of permutations of n objects taken r at a time: p(n, r) = n! / (n-r)!. Number of\n",
    "combinations of n objects taken r at a time is: c(n, r) = n! / (r!*(n-r)!) = p(n,r) / r!\n",
    "</pre>"
   ]
  },
  {
   "cell_type": "code",
   "execution_count": 83,
   "id": "studied-chair",
   "metadata": {},
   "outputs": [
    {
     "name": "stdout",
     "output_type": "stream",
     "text": [
      "['1', '2', '3']\n",
      "['1', '3', '2']\n",
      "['2', '1', '3']\n",
      "['2', '3', '1']\n",
      "['3', '1', '2']\n",
      "['3', '2', '1']\n"
     ]
    }
   ],
   "source": [
    "def permutation(list_num):\n",
    "    #print(list_num)\n",
    "    \n",
    "    # If list_num is empty then there are no permutations\n",
    "    if len(list_num) ==0:\n",
    "        return []\n",
    "    #Only one permutation is possible\n",
    "    if len(list_num) == 1: \n",
    "        return [list_num]\n",
    "    \n",
    "    #if list is greater than 1\n",
    "    new_list = []\n",
    "    \n",
    "    for x in range(len(list_num)):\n",
    "        m = list_num[x]\n",
    "        remaining_list = list_num[:x] +list_num[x+1:]\n",
    "        #print(remaining_list)\n",
    "        \n",
    "        # Generating all permutations where m is first element\n",
    "        for p in permutation(remaining_list):\n",
    "            new_list.append([m] + p)  \n",
    "    return   new_list  \n",
    "   \n",
    "    \n",
    " # Permutation of given number\n",
    "data = list('123')\n",
    "for p in permutation(data):\n",
    "    print(p)   "
   ]
  },
  {
   "cell_type": "code",
   "execution_count": 84,
   "id": "interstate-education",
   "metadata": {},
   "outputs": [
    {
     "data": {
      "text/plain": [
       "[[1, 2, 3],\n",
       " [1, 2, 4],\n",
       " [1, 2, 5],\n",
       " [1, 3, 4],\n",
       " [1, 3, 5],\n",
       " [1, 4, 5],\n",
       " [2, 3, 4],\n",
       " [2, 3, 5],\n",
       " [2, 4, 5],\n",
       " [3, 4, 5]]"
      ]
     },
     "execution_count": 84,
     "metadata": {},
     "output_type": "execute_result"
    }
   ],
   "source": [
    "def combination(lst,n):\n",
    "    if n==0:\n",
    "        return [[]]\n",
    "    l=[]\n",
    "    for i in range(0,len(lst)):\n",
    "        m=lst[i]\n",
    "        remLst=lst[i+1:]\n",
    "        for p in combination(remLst,n-1):\n",
    "            l.append([m]+p)\n",
    "    return l\n",
    "\n",
    "list(combo2([1,2,3,4,5],3))"
   ]
  },
  {
   "cell_type": "markdown",
   "id": "moving-rehabilitation",
   "metadata": {},
   "source": [
    "### <pre> <font color='green'> 5. Write a function that converts a decimal number to binary number </font> </pre>"
   ]
  },
  {
   "cell_type": "code",
   "execution_count": 26,
   "id": "demographic-graphic",
   "metadata": {},
   "outputs": [
    {
     "name": "stdout",
     "output_type": "stream",
     "text": [
      "1100101"
     ]
    }
   ],
   "source": [
    "def convert_Dec_to_Binary(n):\n",
    "    if n >1:\n",
    "        convert_Dec_to_Binary(n//2) # // - return Integer\n",
    "    print(n%2,end='')    \n",
    "\n",
    "convert_Dec_to_Binary(101)"
   ]
  },
  {
   "cell_type": "markdown",
   "id": "permanent-female",
   "metadata": {},
   "source": [
    "<pre>\n",
    "<font color='green'> <strong> 6. Write a function cubesum() that accepts an integer and returns the sum of the cubes of\n",
    "individual digits of that number. Use this function to make functions PrintArmstrong() and\n",
    "isArmstrong() to print Armstrong numbers and to find whether is an Armstrong number.</strong> </font>\n",
    "<pre/>"
   ]
  },
  {
   "cell_type": "code",
   "execution_count": 15,
   "id": "collectible-stuff",
   "metadata": {},
   "outputs": [
    {
     "name": "stdout",
     "output_type": "stream",
     "text": [
      "850 is not armstrong number\n",
      "153 is Armstrong number\n"
     ]
    }
   ],
   "source": [
    "def cubesum(x):\n",
    "    # initialize sum\n",
    "    sum = 0\n",
    "\n",
    "    # find the sum of the cube of individual digit\n",
    "    temp = x\n",
    "    while temp > 0:\n",
    "        digit = temp % 10\n",
    "        sum += digit ** 3\n",
    "        temp //= 10\n",
    "    return sum\n",
    "\n",
    "def printArmstrong(x):\n",
    "    cube_sum = cubesum(x)\n",
    "    if cube_sum == x:\n",
    "        print(x, 'is Armstrong number')\n",
    "    else:\n",
    "        print(x, 'is not armstrong number')\n",
    "\n",
    "        \n",
    "printArmstrong(850)\n",
    "printArmstrong(153)"
   ]
  },
  {
   "cell_type": "markdown",
   "id": "incomplete-shore",
   "metadata": {},
   "source": [
    "<pre><font color ='green'> <strong>\n",
    "7. Write a function prodDigits() that inputs a number and returns the product of digits of that\n",
    "number</font></strong></pre>"
   ]
  },
  {
   "cell_type": "code",
   "execution_count": 24,
   "id": "important-essex",
   "metadata": {},
   "outputs": [
    {
     "name": "stdout",
     "output_type": "stream",
     "text": [
      "The product of digits 153 is 15\n",
      "The product of digits 8496 is 1728\n"
     ]
    }
   ],
   "source": [
    "def get_prod(x):\n",
    "    prod = 1\n",
    "    \n",
    "    temp = x\n",
    "    while temp !=0:\n",
    "        prod = prod*(temp%10)\n",
    "        temp = temp//10\n",
    "    print('The product of digits {} is {}'.format(x,prod))    \n",
    "    \n",
    "    \n",
    "get_prod(153)\n",
    "get_prod(8496)"
   ]
  },
  {
   "cell_type": "markdown",
   "id": "front-falls",
   "metadata": {},
   "source": [
    "<pre><font color ='green'> <strong>\n",
    "8.If all digits of a number n are multiplied by each other repeating with the product, the one\n",
    "digit number obtained at last is called the multiplicative digital root of n. The number of\n",
    "times digits need to be multiplied to reach one digit is called the multiplicative\n",
    "persistance of n.\n",
    "Example: 86 -> 48 -> 32 -> 6 (MDR 6, MPersistence 3)\n",
    " 341 -> 12->2 (MDR 2, MPersistence 2)\n",
    "Using the function prodDigits() of previous exercise write functions MDR() and\n",
    "MPersistence() that input a number and return its multiplicative digital root and\n",
    "multiplicative persistence respectively </font></strong></pre>"
   ]
  },
  {
   "cell_type": "code",
   "execution_count": 51,
   "id": "trained-template",
   "metadata": {},
   "outputs": [
    {
     "name": "stdout",
     "output_type": "stream",
     "text": [
      "multiplicative digital root of 86 is 6\n",
      "multiplicative persistence of 86 is 3\n",
      "****************************************************************************************************\n",
      "multiplicative digital root of 341 is 2\n",
      "multiplicative persistence of 341 is 2\n"
     ]
    }
   ],
   "source": [
    "def get_prod(x):\n",
    "    prod = 1\n",
    "    \n",
    "    temp = x\n",
    "    while temp !=0:\n",
    "        prod = prod*(temp%10)\n",
    "        temp = temp//10   \n",
    "    return prod\n",
    "\n",
    "def MDR(x):\n",
    "    count = 0\n",
    "    length = 0\n",
    "    temp =x\n",
    "    while length !=1: \n",
    "        temp = get_prod(temp)\n",
    "        length = len(str(temp))\n",
    "        count+=1\n",
    "    print('multiplicative digital root of {} is {}'.format(x,temp))  \n",
    "    print('multiplicative persistence of {} is {}'.format(x,count))\n",
    "\n",
    "\n",
    "#Starting\n",
    "MDR(86)\n",
    "print('**'*50)\n",
    "MDR(341)       \n",
    "    \n",
    "    "
   ]
  },
  {
   "cell_type": "markdown",
   "id": "duplicate-notebook",
   "metadata": {},
   "source": [
    "<pre><font color='green'><strong> 9. Write a function sumPdivisors() that finds the sum of proper divisors of a number. Proper\n",
    "divisors of a number are those numbers by which the number is divisible, except the\n",
    "number itself. For example proper divisors of 36 are 1, 2, 3, 4, 6, 9,12, 18 </strong>\n",
    "</pre>"
   ]
  },
  {
   "cell_type": "code",
   "execution_count": 18,
   "id": "genuine-crazy",
   "metadata": {},
   "outputs": [
    {
     "name": "stdout",
     "output_type": "stream",
     "text": [
      "Enter the number to find sum of proper divisor - 28\n",
      "The sum of proper divisors of a number are  [1, 2, 4, 7, 14]\n"
     ]
    }
   ],
   "source": [
    "def sumPdivisor(num):\n",
    "    divisor_list =[]\n",
    "    for i in range(1,num):\n",
    "        if num%i == 0:\n",
    "            divisor_list.append(i)\n",
    "    print('The sum of proper divisors of a number are ', divisor_list)   \n",
    "\n",
    "num= int(input('Enter the number to find sum of proper divisor - '))\n",
    "sumPdivisor(num)"
   ]
  },
  {
   "cell_type": "markdown",
   "id": "absolute-attempt",
   "metadata": {},
   "source": [
    "<pre><font color='green'><strong> 10. A number is called perfect if the sum of proper divisors of that number is equal to the\n",
    "number. For example 28 is perfect number, since 1+2+4+7+14=28. Write a program to\n",
    "print all the perfect numbers in a given range </strong>\n",
    "</pre>"
   ]
  },
  {
   "cell_type": "code",
   "execution_count": 26,
   "id": "tracked-bradford",
   "metadata": {},
   "outputs": [
    {
     "name": "stdout",
     "output_type": "stream",
     "text": [
      "Enter the number to find proper number or not?  - 28\n",
      "The sum of proper divisors of a number are  [1, 2, 4, 7, 14]\n",
      "The number 28 is perfect number\n"
     ]
    }
   ],
   "source": [
    "def Prefect_number(num):\n",
    "    divisor_list =[]\n",
    "    for i in range(1,num):\n",
    "        if num%i == 0:\n",
    "            divisor_list.append(i)\n",
    "    print('The sum of proper divisors of a number are ', divisor_list)  \n",
    "    if sum(divisor_list) == num:\n",
    "        print('The number {} is perfect number'.format(num))\n",
    "    else:    \n",
    "        print('The number {} is Not a perfect number, because sum of proper divisor is {}'.format(num, sum(divisor_list)))\n",
    "\n",
    "num= int(input('Enter the number to find proper number or not?  - '))\n",
    "Prefect_number(num)"
   ]
  },
  {
   "cell_type": "markdown",
   "id": "difficult-performance",
   "metadata": {},
   "source": [
    "<pre><font color='green'><strong>11.  Two different numbers are called amicable numbers if the sum of the proper divisors of\n",
    "each is equal to the other number. For example 220 and 284 are amicable numbers.\n",
    "Sum of proper divisors of 220 = 1+2+4+5+10+11+20+22+44+55+110 = 284\n",
    "Sum of proper divisors of 284 = 1+2+4+71+142 = 220\n",
    "Write a function to print pairs of amicable numbers in a range\n",
    "\n",
    "</pre>"
   ]
  },
  {
   "cell_type": "code",
   "execution_count": 33,
   "id": "standing-roman",
   "metadata": {},
   "outputs": [
    {
     "name": "stdout",
     "output_type": "stream",
     "text": [
      "Enter the number to find amicable numbers or not?  - 220\n",
      "Numbers 220 and 284 are amicable numbers\n"
     ]
    }
   ],
   "source": [
    "def sumPdivisor(num):\n",
    "    divisor_list =[]\n",
    "    for i in range(1,num):\n",
    "        if num%i == 0:\n",
    "            divisor_list.append(i)\n",
    "    return  divisor_list  \n",
    "\n",
    "\n",
    "\n",
    "def amicable_number(num):\n",
    "    list_divisor = sumPdivisor(num)\n",
    "    sum_proper_divisor =sum(list_divisor)\n",
    "    if sum_proper_divisor != num:\n",
    "        list_divisor_new = sumPdivisor(sum_proper_divisor)\n",
    "        sum_proper_divisor_new =sum(list_divisor_new)\n",
    "        if sum_proper_divisor_new == num:\n",
    "            print('Numbers {} and {} are amicable numbers'.format(num,sum_proper_divisor))\n",
    "        else:\n",
    "            print('Numbers {} and {} are not amicable numbers'.format(num,sum_proper_divisor))\n",
    "            \n",
    "        \n",
    "      \n",
    "\n",
    "num= int(input('Enter the number to find amicable numbers or not?  - '))\n",
    "amicable_number(num)"
   ]
  },
  {
   "cell_type": "markdown",
   "id": "julian-reading",
   "metadata": {},
   "source": [
    "<pre><font color='green'><strong>12.  Write a program which can filter odd numbers in a list by using filter function\n",
    "</pre>"
   ]
  },
  {
   "cell_type": "code",
   "execution_count": 37,
   "id": "weighted-agriculture",
   "metadata": {},
   "outputs": [
    {
     "name": "stdout",
     "output_type": "stream",
     "text": [
      "[1, 3, 5, 7, 9, 11, 13, 15, 17, 19, 21, 23, 25, 27, 29]\n"
     ]
    }
   ],
   "source": [
    "# Initialisation of list\n",
    "lis1 = range(1,31)\n",
    "  \n",
    "is_odd = lambda x: x % 2 != 0\n",
    "  \n",
    "# using filter function\n",
    "lis2 = list(filter(is_even, lis1))\n",
    "  \n",
    "# Printing output\n",
    "print(lis2)"
   ]
  },
  {
   "cell_type": "markdown",
   "id": "bottom-hunter",
   "metadata": {},
   "source": [
    "<pre><font color='green'><strong>13. Write a program which can map() to make a list whose elements are cube of elements in\n",
    "a given list\n",
    "</pre>"
   ]
  },
  {
   "cell_type": "code",
   "execution_count": 45,
   "id": "signal-reference",
   "metadata": {},
   "outputs": [
    {
     "name": "stdout",
     "output_type": "stream",
     "text": [
      "[1, 8, 27, 64, 125, 216, 343, 512, 729]\n"
     ]
    }
   ],
   "source": [
    "def find_cube(num):\n",
    "    '''\n",
    "    Cube function created\n",
    "    '''\n",
    "    return num**3\n",
    "\n",
    "list_of_numbers= range(1,10) # given list of numbers\n",
    "map_function = map(find_cube,list_of_numbers) #  Cube function is mapped\n",
    "print(list(map_function))"
   ]
  },
  {
   "cell_type": "markdown",
   "id": "sapphire-trauma",
   "metadata": {},
   "source": [
    "<pre><font color='green'><strong>14. Write a program which can map() and filter() to make a list whose elements are cube of\n",
    "even number in a given list\n",
    "</pre>"
   ]
  },
  {
   "cell_type": "code",
   "execution_count": 46,
   "id": "blind-mortgage",
   "metadata": {},
   "outputs": [
    {
     "name": "stdout",
     "output_type": "stream",
     "text": [
      "[8, 64, 216, 512]\n"
     ]
    }
   ],
   "source": [
    "def find_cube(num):\n",
    "    '''\n",
    "    Cube function created\n",
    "    '''\n",
    "    return num**3\n",
    "\n",
    "list_of_numbers= range(1,10) # given list of numbers\n",
    "map_function = map(find_cube,list_of_numbers) #  Cube function is mapped\n",
    "cube_list = list(map_function)\n",
    "\n",
    "is_even = lambda x: x % 2 == 0\n",
    "# using filter function\n",
    "lis2 = list(filter(is_even, cube_list))\n",
    "  \n",
    "# Printing output\n",
    "print(lis2)\n",
    "\n"
   ]
  },
  {
   "cell_type": "markdown",
   "id": "collaborative-ethics",
   "metadata": {},
   "source": [
    "<pre>\n",
    "###############################   XXXXXXXXXXXXXXXXXXXXXXXXXXXXXXXXXX ########################################\n",
    "\n",
    "</pre>"
   ]
  }
 ],
 "metadata": {
  "kernelspec": {
   "display_name": "Python 3",
   "language": "python",
   "name": "python3"
  },
  "language_info": {
   "codemirror_mode": {
    "name": "ipython",
    "version": 3
   },
   "file_extension": ".py",
   "mimetype": "text/x-python",
   "name": "python",
   "nbconvert_exporter": "python",
   "pygments_lexer": "ipython3",
   "version": "3.9.2"
  }
 },
 "nbformat": 4,
 "nbformat_minor": 5
}
